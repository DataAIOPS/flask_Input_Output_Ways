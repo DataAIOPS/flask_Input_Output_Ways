{
 "cells": [
  {
   "cell_type": "markdown",
   "id": "e99c9caa",
   "metadata": {},
   "source": [
    "### 1.Constant Input"
   ]
  },
  {
   "cell_type": "code",
   "execution_count": 1,
   "id": "238d44f3",
   "metadata": {},
   "outputs": [
    {
     "name": "stdout",
     "output_type": "stream",
     "text": [
      " * Serving Flask app '__main__'\n",
      " * Debug mode: off\n"
     ]
    },
    {
     "name": "stderr",
     "output_type": "stream",
     "text": [
      "WARNING: This is a development server. Do not use it in a production deployment. Use a production WSGI server instead.\n",
      " * Running on all addresses (0.0.0.0)\n",
      " * Running on http://127.0.0.1:5000\n",
      " * Running on http://192.168.0.102:5000\n",
      "Press CTRL+C to quit\n",
      "127.0.0.1 - - [14/Oct/2024 21:06:10] \"GET / HTTP/1.1\" 404 -\n",
      "127.0.0.1 - - [14/Oct/2024 21:06:10] \"GET /favicon.ico HTTP/1.1\" 404 -\n",
      "127.0.0.1 - - [14/Oct/2024 21:06:14] \"GET / HTTP/1.1\" 404 -\n",
      "127.0.0.1 - - [14/Oct/2024 21:06:14] \"GET /favicon.ico HTTP/1.1\" 404 -\n",
      "127.0.0.1 - - [14/Oct/2024 21:06:54] \"GET /substraction HTTP/1.1\" 200 -\n",
      "127.0.0.1 - - [14/Oct/2024 21:07:01] \"GET /addition HTTP/1.1\" 200 -\n"
     ]
    }
   ],
   "source": [
    "#Addition: http://localhost:5000/addition\n",
    "#Substraction: http://localhost:5000/substraction\n",
    "            \n",
    "from flask import Flask\n",
    "\n",
    "app = Flask(__name__)\n",
    "\n",
    "@app.route('/substraction')\n",
    "def substraction():\n",
    "    a=10\n",
    "    b=20\n",
    "    c=b-a\n",
    "    return f\"substraction of {b}-{a}={c}\"\n",
    "\n",
    "@app.route('/addition')\n",
    "def addition():\n",
    "    a=10\n",
    "    b=20\n",
    "    c=b+a\n",
    "    return f\"addition of {b}+{a}={c}\"\n",
    "\n",
    "if __name__=='__main__':\n",
    "    app.run(host='0.0.0.0',port=5000)"
   ]
  },
  {
   "cell_type": "markdown",
   "id": "5781273c",
   "metadata": {},
   "source": [
    "### 2. Input Through URL"
   ]
  },
  {
   "cell_type": "code",
   "execution_count": 2,
   "id": "957fc519",
   "metadata": {},
   "outputs": [
    {
     "name": "stdout",
     "output_type": "stream",
     "text": [
      " * Serving Flask app '__main__'\n",
      " * Debug mode: off\n"
     ]
    },
    {
     "name": "stderr",
     "output_type": "stream",
     "text": [
      "WARNING: This is a development server. Do not use it in a production deployment. Use a production WSGI server instead.\n",
      " * Running on all addresses (0.0.0.0)\n",
      " * Running on http://127.0.0.1:5000\n",
      " * Running on http://192.168.0.102:5000\n",
      "Press CTRL+C to quit\n",
      "127.0.0.1 - - [14/Oct/2024 21:08:32] \"GET /addition?a=100&b=100 HTTP/1.1\" 200 -\n",
      "127.0.0.1 - - [14/Oct/2024 21:08:39] \"GET /addition?a=100&b=20 HTTP/1.1\" 200 -\n"
     ]
    }
   ],
   "source": [
    "'''\n",
    "URL Format \n",
    "Addition: http://localhost:5000/addition?a=100&b=100\n",
    "Substraction: http://localhost:5000/substraction?a=100&b=100\n",
    "'''\n",
    "\n",
    "from flask import Flask\n",
    "from flask import request\n",
    "\n",
    "app = Flask(__name__)\n",
    "\n",
    "@app.route('/substraction')\n",
    "def substraction():\n",
    "    a=request.args.get(\"a\")\n",
    "    b=request.args.get(\"b\")\n",
    "    c=int(b)-int(a)\n",
    "    return f\"substraction of {b}-{a}={c}\"\n",
    "\n",
    "@app.route('/addition')\n",
    "def addition():\n",
    "    a=request.args.get(\"a\")\n",
    "    b=request.args.get(\"b\")\n",
    "    c=int(b)+int(a)\n",
    "    return f\"addition of {b}+{a}={c}\"\n",
    "\n",
    "if __name__=='__main__':\n",
    "    app.run(host='0.0.0.0',port=5000)"
   ]
  },
  {
   "cell_type": "markdown",
   "id": "0b79519e",
   "metadata": {},
   "source": [
    "### 3.Inputs through Swagger"
   ]
  },
  {
   "cell_type": "code",
   "execution_count": 3,
   "id": "22c0c233",
   "metadata": {},
   "outputs": [
    {
     "name": "stdout",
     "output_type": "stream",
     "text": [
      " * Serving Flask app '__main__'\n",
      " * Debug mode: off\n"
     ]
    },
    {
     "name": "stderr",
     "output_type": "stream",
     "text": [
      "WARNING: This is a development server. Do not use it in a production deployment. Use a production WSGI server instead.\n",
      " * Running on all addresses (0.0.0.0)\n",
      " * Running on http://127.0.0.1:5000\n",
      " * Running on http://192.168.0.102:5000\n",
      "Press CTRL+C to quit\n",
      "127.0.0.1 - - [14/Oct/2024 21:10:37] \"GET /apidocs HTTP/1.1\" 308 -\n",
      "127.0.0.1 - - [14/Oct/2024 21:10:37] \"GET /apidocs/ HTTP/1.1\" 200 -\n",
      "127.0.0.1 - - [14/Oct/2024 21:10:37] \"GET /flasgger_static/lib/jquery.min.js HTTP/1.1\" 200 -\n",
      "127.0.0.1 - - [14/Oct/2024 21:10:37] \"GET /flasgger_static/swagger-ui-standalone-preset.js HTTP/1.1\" 200 -\n",
      "127.0.0.1 - - [14/Oct/2024 21:10:37] \"GET /flasgger_static/swagger-ui.css HTTP/1.1\" 200 -\n",
      "127.0.0.1 - - [14/Oct/2024 21:10:37] \"GET /flasgger_static/swagger-ui-bundle.js HTTP/1.1\" 200 -\n",
      "127.0.0.1 - - [14/Oct/2024 21:10:38] \"GET /apispec_1.json HTTP/1.1\" 200 -\n",
      "127.0.0.1 - - [14/Oct/2024 21:10:38] \"GET /flasgger_static/favicon-32x32.png HTTP/1.1\" 200 -\n",
      "127.0.0.1 - - [14/Oct/2024 21:11:16] \"GET /addition?a=1&b=2 HTTP/1.1\" 200 -\n",
      "127.0.0.1 - - [14/Oct/2024 21:11:39] \"GET /substraction?a=20&b=10 HTTP/1.1\" 200 -\n"
     ]
    }
   ],
   "source": [
    "#for first time run> !pip install flassger\n",
    "\n",
    "\n",
    "'''\n",
    "URL Format \n",
    "http://localhost:5000/apidocs\n",
    "'''\n",
    "\n",
    "from flask import Flask,request\n",
    "from flasgger import Swagger\n",
    "\n",
    "app = Flask(__name__)\n",
    "Swagger(app)\n",
    "\n",
    "@app.route('/substraction')\n",
    "def substraction():\n",
    "    \"\"\"Click here\n",
    "    ---\n",
    "    parameters:\n",
    "        - name: a\n",
    "          in: query\n",
    "          type: number\n",
    "          required: true\n",
    "        - name: b\n",
    "          in: query\n",
    "          type: number\n",
    "          required: true\n",
    "    responses:\n",
    "          200:\n",
    "              description: Here is substraction\n",
    "    \"\"\"\n",
    "    a=request.args.get(\"a\")\n",
    "    b=request.args.get(\"b\")\n",
    "    c=int(b)-int(a)\n",
    "    return f\"substraction of {b}-{a}={c}\"\n",
    "\n",
    "@app.route('/addition')\n",
    "def addition():\n",
    "    \"\"\"Click here\n",
    "    ---\n",
    "    parameters:\n",
    "        - name: a\n",
    "          in: query\n",
    "          type: number\n",
    "          required: true\n",
    "        - name: b\n",
    "          in: query\n",
    "          type: number\n",
    "          required: true\n",
    "    responses:\n",
    "          200:\n",
    "              description: Here is substraction\n",
    "    \"\"\"\n",
    "    a=request.args.get(\"a\")\n",
    "    b=request.args.get(\"b\")\n",
    "    c=int(b)+int(a)\n",
    "    return f\"addition of {b}+{a}={c}\"\n",
    "\n",
    "if __name__=='__main__':\n",
    "    app.run(host='0.0.0.0',port=5000)"
   ]
  },
  {
   "cell_type": "markdown",
   "id": "1e47a56b",
   "metadata": {},
   "source": [
    "### 4. Input Through HTML"
   ]
  },
  {
   "cell_type": "code",
   "execution_count": 18,
   "id": "8adfda0a",
   "metadata": {},
   "outputs": [
    {
     "name": "stdout",
     "output_type": "stream",
     "text": [
      " * Serving Flask app '__main__'\n",
      " * Debug mode: off\n"
     ]
    },
    {
     "name": "stderr",
     "output_type": "stream",
     "text": [
      "WARNING: This is a development server. Do not use it in a production deployment. Use a production WSGI server instead.\n",
      " * Running on all addresses (0.0.0.0)\n",
      " * Running on http://127.0.0.1:8000\n",
      " * Running on http://192.168.0.102:8000\n",
      "Press CTRL+C to quit\n",
      "127.0.0.1 - - [14/Oct/2024 21:41:05] \"POST / HTTP/1.1\" 200 -\n"
     ]
    },
    {
     "name": "stdout",
     "output_type": "stream",
     "text": [
      "{'First_Number': '2', 'Second_Number': '3', 'SUM/SUB': 'SUM'}\n"
     ]
    },
    {
     "name": "stderr",
     "output_type": "stream",
     "text": [
      "127.0.0.1 - - [14/Oct/2024 21:41:10] \"POST / HTTP/1.1\" 200 -\n"
     ]
    },
    {
     "name": "stdout",
     "output_type": "stream",
     "text": [
      "{'First_Number': '1', 'Second_Number': '1', 'SUM/SUB': 'SUB'}\n"
     ]
    },
    {
     "name": "stderr",
     "output_type": "stream",
     "text": [
      "127.0.0.1 - - [14/Oct/2024 21:41:15] \"POST / HTTP/1.1\" 200 -\n"
     ]
    },
    {
     "name": "stdout",
     "output_type": "stream",
     "text": [
      "{'First_Number': '2', 'Second_Number': '2', 'SUM/SUB': 'SUM'}\n"
     ]
    },
    {
     "name": "stderr",
     "output_type": "stream",
     "text": [
      "127.0.0.1 - - [14/Oct/2024 21:42:53] \"POST / HTTP/1.1\" 200 -\n"
     ]
    },
    {
     "name": "stdout",
     "output_type": "stream",
     "text": [
      "{'First_Number': '2', 'Second_Number': '2', 'SUM/SUB': 'SUM'}\n"
     ]
    },
    {
     "name": "stderr",
     "output_type": "stream",
     "text": [
      "127.0.0.1 - - [14/Oct/2024 21:42:57] \"GET / HTTP/1.1\" 200 -\n",
      "127.0.0.1 - - [14/Oct/2024 21:44:31] \"POST / HTTP/1.1\" 200 -\n"
     ]
    },
    {
     "name": "stdout",
     "output_type": "stream",
     "text": [
      "{'First_Number': '1', 'Second_Number': '1', 'SUM/SUB': 'SUM'}\n"
     ]
    }
   ],
   "source": [
    "'''\n",
    "URL Format \n",
    "http://localhost:8000\n",
    "'''\n",
    "\n",
    "from flask import Flask, render_template,request\n",
    "app = Flask(__name__)\n",
    "\n",
    "@app.route(\"/\",methods=[\"GET\",\"POST\"])\n",
    "def my_webpage():\n",
    "    if request.method == \"POST\":\n",
    "        try:\n",
    "            if request.form:\n",
    "                data_request = dict(request.form)\n",
    "                print(data_request)\n",
    "                num1 = float(data_request[\"First_Number\"])\n",
    "                num2 = float(data_request[\"Second_Number\"])\n",
    "                operation = data_request[\"SUM/SUB\"]   \n",
    "                if operation == \"SUM\":\n",
    "                    response = num1+num2\n",
    "                elif operation == \"SUB\":\n",
    "                    response = num1-num2\n",
    "                return render_template(\"index1.html\", response=response)\n",
    "        except:\n",
    "            return \"Something Went Wrong. Try After Sometime !!\"\n",
    "    else:\n",
    "        return render_template(\"index1.html\")\n",
    "    \n",
    "if __name__=='__main__':\n",
    "    app.run(host='0.0.0.0',port=8000)"
   ]
  },
  {
   "cell_type": "code",
   "execution_count": 15,
   "id": "7afcf08c",
   "metadata": {},
   "outputs": [
    {
     "data": {
      "text/plain": [
       "'C:\\\\Users\\\\shubh\\\\Desktop\\\\delete\\\\flask'"
      ]
     },
     "execution_count": 15,
     "metadata": {},
     "output_type": "execute_result"
    }
   ],
   "source": [
    "pwd"
   ]
  },
  {
   "cell_type": "code",
   "execution_count": null,
   "id": "0e7c4f4c",
   "metadata": {},
   "outputs": [],
   "source": []
  }
 ],
 "metadata": {
  "kernelspec": {
   "display_name": "Python 3 (ipykernel)",
   "language": "python",
   "name": "python3"
  },
  "language_info": {
   "codemirror_mode": {
    "name": "ipython",
    "version": 3
   },
   "file_extension": ".py",
   "mimetype": "text/x-python",
   "name": "python",
   "nbconvert_exporter": "python",
   "pygments_lexer": "ipython3",
   "version": "3.11.5"
  }
 },
 "nbformat": 4,
 "nbformat_minor": 5
}
