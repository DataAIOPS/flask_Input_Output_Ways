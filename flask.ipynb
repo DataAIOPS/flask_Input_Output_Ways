{
 "cells": [
  {
   "cell_type": "markdown",
   "id": "e99c9caa",
   "metadata": {},
   "source": [
    "### 1.Constant Input"
   ]
  },
  {
   "cell_type": "code",
   "execution_count": 16,
   "id": "238d44f3",
   "metadata": {},
   "outputs": [
    {
     "name": "stdout",
     "output_type": "stream",
     "text": [
      " * Serving Flask app '__main__'\n",
      " * Debug mode: off\n"
     ]
    },
    {
     "name": "stderr",
     "output_type": "stream",
     "text": [
      "WARNING: This is a development server. Do not use it in a production deployment. Use a production WSGI server instead.\n",
      " * Running on all addresses (0.0.0.0)\n",
      " * Running on http://127.0.0.1:5000\n",
      " * Running on http://192.168.0.101:5000\n",
      "Press CTRL+C to quit\n",
      "127.0.0.1 - - [09/Oct/2024 21:31:20] \"GET /addition HTTP/1.1\" 200 -\n"
     ]
    }
   ],
   "source": [
    "#Addition: http://localhost:5000/addition\n",
    "#Substraction: http://localhost:5000/substraction\n",
    "            \n",
    "from flask import Flask\n",
    "\n",
    "app = Flask(__name__)\n",
    "\n",
    "@app.route('/substraction')\n",
    "def substraction():\n",
    "    a=10\n",
    "    b=20\n",
    "    c=b-a\n",
    "    return f\"substraction of {b}-{a}={c}\"\n",
    "\n",
    "@app.route('/addition')\n",
    "def addition():\n",
    "    a=10\n",
    "    b=20\n",
    "    c=b+a\n",
    "    return f\"addition of {b}+{a}={c}\"\n",
    "\n",
    "if __name__=='__main__':\n",
    "    app.run(host='0.0.0.0',port=5000)"
   ]
  },
  {
   "cell_type": "markdown",
   "id": "5781273c",
   "metadata": {},
   "source": [
    "### 2. Input Through URL"
   ]
  },
  {
   "cell_type": "code",
   "execution_count": 10,
   "id": "957fc519",
   "metadata": {},
   "outputs": [
    {
     "name": "stdout",
     "output_type": "stream",
     "text": [
      " * Serving Flask app '__main__'\n",
      " * Debug mode: off\n"
     ]
    },
    {
     "name": "stderr",
     "output_type": "stream",
     "text": [
      "WARNING: This is a development server. Do not use it in a production deployment. Use a production WSGI server instead.\n",
      " * Running on all addresses (0.0.0.0)\n",
      " * Running on http://127.0.0.1:5000\n",
      " * Running on http://192.168.0.101:5000\n",
      "Press CTRL+C to quit\n",
      "127.0.0.1 - - [09/Oct/2024 21:42:30] \"GET /addition?a=50&b=500 HTTP/1.1\" 200 -\n",
      "127.0.0.1 - - [09/Oct/2024 21:42:37] \"GET /addition?a=50&b=10 HTTP/1.1\" 200 -\n"
     ]
    }
   ],
   "source": [
    "'''\n",
    "URL Format \n",
    "Addition: http://localhost:5000/addition?a=100&b=100\n",
    "Substraction: http://localhost:5000/substraction?a=100&b=100\n",
    "'''\n",
    "\n",
    "from flask import Flask\n",
    "from flask import request\n",
    "\n",
    "app = Flask(__name__)\n",
    "\n",
    "@app.route('/substraction')\n",
    "def substraction():\n",
    "    a=request.args.get(\"a\")\n",
    "    b=request.args.get(\"b\")\n",
    "    c=int(b)-int(a)\n",
    "    return f\"substraction of {b}-{a}={c}\"\n",
    "\n",
    "@app.route('/addition')\n",
    "def addition():\n",
    "    a=request.args.get(\"a\")\n",
    "    b=request.args.get(\"b\")\n",
    "    c=int(b)+int(a)\n",
    "    return f\"addition of {b}+{a}={c}\"\n",
    "\n",
    "if __name__=='__main__':\n",
    "    app.run(host='0.0.0.0',port=5000)"
   ]
  },
  {
   "cell_type": "markdown",
   "id": "0b79519e",
   "metadata": {},
   "source": [
    "### 3.Inputs through Swagger"
   ]
  },
  {
   "cell_type": "code",
   "execution_count": 1,
   "id": "22c0c233",
   "metadata": {
    "collapsed": true
   },
   "outputs": [
    {
     "name": "stdout",
     "output_type": "stream",
     "text": [
      " * Serving Flask app '__main__'\n",
      " * Debug mode: off\n"
     ]
    },
    {
     "name": "stderr",
     "output_type": "stream",
     "text": [
      "WARNING: This is a development server. Do not use it in a production deployment. Use a production WSGI server instead.\n",
      " * Running on all addresses (0.0.0.0)\n",
      " * Running on http://127.0.0.1:5000\n",
      " * Running on http://192.168.0.101:5000\n",
      "Press CTRL+C to quit\n",
      "127.0.0.1 - - [09/Oct/2024 22:00:44] \"GET /apidocs/ HTTP/1.1\" 200 -\n",
      "127.0.0.1 - - [09/Oct/2024 22:00:44] \"GET /flasgger_static/swagger-ui.css HTTP/1.1\" 304 -\n",
      "127.0.0.1 - - [09/Oct/2024 22:00:44] \"GET /flasgger_static/swagger-ui-bundle.js HTTP/1.1\" 304 -\n",
      "127.0.0.1 - - [09/Oct/2024 22:00:44] \"GET /flasgger_static/swagger-ui-standalone-preset.js HTTP/1.1\" 304 -\n",
      "127.0.0.1 - - [09/Oct/2024 22:00:44] \"GET /flasgger_static/lib/jquery.min.js HTTP/1.1\" 304 -\n",
      "127.0.0.1 - - [09/Oct/2024 22:00:45] \"GET /apispec_1.json HTTP/1.1\" 200 -\n",
      "127.0.0.1 - - [09/Oct/2024 22:00:45] \"GET /flasgger_static/favicon-32x32.png HTTP/1.1\" 304 -\n",
      "127.0.0.1 - - [09/Oct/2024 22:01:00] \"GET /addition?a=12&b=12 HTTP/1.1\" 200 -\n",
      "127.0.0.1 - - [09/Oct/2024 22:01:55] \"GET /addition?a=12&b=12 HTTP/1.1\" 200 -\n",
      "[2024-10-09 22:02:10,487] ERROR in app: Exception on /substraction [GET]\n",
      "Traceback (most recent call last):\n",
      "  File \"C:\\Users\\shubh\\anaconda3\\Lib\\site-packages\\flask\\app.py\", line 1455, in wsgi_app\n",
      "    response = self.full_dispatch_request()\n",
      "               ^^^^^^^^^^^^^^^^^^^^^^^^^^^^\n",
      "  File \"C:\\Users\\shubh\\anaconda3\\Lib\\site-packages\\flask\\app.py\", line 869, in full_dispatch_request\n",
      "    rv = self.handle_user_exception(e)\n",
      "         ^^^^^^^^^^^^^^^^^^^^^^^^^^^^^\n",
      "  File \"C:\\Users\\shubh\\anaconda3\\Lib\\site-packages\\flask\\app.py\", line 867, in full_dispatch_request\n",
      "    rv = self.dispatch_request()\n",
      "         ^^^^^^^^^^^^^^^^^^^^^^^\n",
      "  File \"C:\\Users\\shubh\\anaconda3\\Lib\\site-packages\\flask\\app.py\", line 852, in dispatch_request\n",
      "    return self.ensure_sync(self.view_functions[rule.endpoint])(**view_args)\n",
      "           ^^^^^^^^^^^^^^^^^^^^^^^^^^^^^^^^^^^^^^^^^^^^^^^^^^^^^^^^^^^^^^^^^\n",
      "  File \"C:\\Users\\shubh\\AppData\\Local\\Temp\\ipykernel_18752\\324159615.py\", line 28, in substraction\n",
      "    c=int(b)-int(a)\n",
      "      ^^^^^^\n",
      "TypeError: int() argument must be a string, a bytes-like object or a real number, not 'NoneType'\n",
      "127.0.0.1 - - [09/Oct/2024 22:02:10] \"GET /substraction?a=12&b=12 HTTP/1.1\" 500 -\n",
      "127.0.0.1 - - [09/Oct/2024 22:02:22] \"GET /substraction?aaaaaaaa=1&bbbbbbbbb=2 HTTP/1.1\" 200 -\n",
      "127.0.0.1 - - [09/Oct/2024 22:02:30] \"GET /substraction?aaaaaaaa=1&bbbbbbbbb=2 HTTP/1.1\" 200 -\n"
     ]
    }
   ],
   "source": [
    "#for first time run> !pip install flassger\n",
    "\n",
    "\n",
    "'''\n",
    "URL Format \n",
    "http://localhost:8000/apidocs\n",
    "'''\n",
    "\n",
    "from flask import Flask,request\n",
    "from flasgger import Swagger\n",
    "\n",
    "app = Flask(__name__)\n",
    "Swagger(app)\n",
    "\n",
    "@app.route('/substraction')\n",
    "def substraction():\n",
    "    \"\"\"Click here\n",
    "    ---\n",
    "    parameters:\n",
    "        - name: aaaaaaaa\n",
    "          in: query\n",
    "          type: number\n",
    "          required: true\n",
    "        - name: bbbbbbbbb\n",
    "          in: query\n",
    "          type: number\n",
    "          required: true\n",
    "    responses:\n",
    "          200:\n",
    "              description: Here is substraction\n",
    "    \"\"\"\n",
    "    a=request.args.get(\"aaaaaaaa\")\n",
    "    b=request.args.get(\"bbbbbbbbb\")\n",
    "    c=int(b)-int(a)\n",
    "    return f\"substraction of {b}-{a}={c}\"\n",
    "\n",
    "@app.route('/addition')\n",
    "def addition():\n",
    "    \"\"\"Click here\n",
    "    ---\n",
    "    parameters:\n",
    "        - name: a\n",
    "          in: query\n",
    "          type: number\n",
    "          required: true\n",
    "        - name: b\n",
    "          in: query\n",
    "          type: number\n",
    "          required: true\n",
    "    responses:\n",
    "          200:\n",
    "              description: Here is substraction\n",
    "    \"\"\"\n",
    "    a=request.args.get(\"a\")\n",
    "    b=request.args.get(\"b\")\n",
    "    c=int(b)+int(a)\n",
    "    return f\"addition of {b}+{a}={c}\"\n",
    "\n",
    "if __name__=='__main__':\n",
    "    app.run(host='0.0.0.0',port=5000)"
   ]
  },
  {
   "cell_type": "markdown",
   "id": "1e47a56b",
   "metadata": {},
   "source": [
    "### 4. Input Through HTML"
   ]
  },
  {
   "cell_type": "code",
   "execution_count": null,
   "id": "8adfda0a",
   "metadata": {},
   "outputs": [],
   "source": [
    "from flask import Flask, render_template,request\n",
    "app = Flask(__name__)\n",
    "@app.route(\"/\", methods=[\"GET\", \"POST\"])\n",
    "def index():\n",
    "    if request.method=='POST':\n",
    "        try:\n",
    "            if request.form:\n",
    "                data_req"
   ]
  },
  {
   "cell_type": "code",
   "execution_count": null,
   "id": "c0c8e75a",
   "metadata": {},
   "outputs": [
    {
     "name": "stdout",
     "output_type": "stream",
     "text": [
      " * Serving Flask app '__main__'\n",
      " * Debug mode: off\n"
     ]
    },
    {
     "name": "stderr",
     "output_type": "stream",
     "text": [
      "WARNING: This is a development server. Do not use it in a production deployment. Use a production WSGI server instead.\n",
      " * Running on all addresses (0.0.0.0)\n",
      " * Running on http://127.0.0.1:8000\n",
      " * Running on http://192.168.0.102:8000\n",
      "Press CTRL+C to quit\n",
      "127.0.0.1 - - [14/Oct/2024 19:21:06] \"GET / HTTP/1.1\" 200 -\n",
      "127.0.0.1 - - [14/Oct/2024 19:21:15] \"POST / HTTP/1.1\" 200 -\n",
      "127.0.0.1 - - [14/Oct/2024 19:21:21] \"POST / HTTP/1.1\" 200 -\n",
      "127.0.0.1 - - [14/Oct/2024 19:29:12] \"POST / HTTP/1.1\" 200 -\n"
     ]
    }
   ],
   "source": [
    "'''\n",
    "URL Format \n",
    "http://localhost:8000\n",
    "'''\n",
    "from flask import Flask, render_template,request\n",
    "\n",
    "app = Flask(__name__)\n",
    "\n",
    "@app.route(\"/\", methods=[\"GET\", \"POST\"])\n",
    "def index():\n",
    "    if request.method == \"POST\":\n",
    "        try:\n",
    "            if request.form:\n",
    "                data_req=dict(request.form) \n",
    "                data=list(data_req.values())\n",
    "                data1 =list(map(int, data[:-1]))\n",
    "                number1=data1[0]\n",
    "                number2=data1[1]\n",
    "                Operation=data[-1]\n",
    "                \n",
    "                if Operation==\"SUM\":\n",
    "                    response=number1+number2\n",
    "                elif Operation==\"SUB\":\n",
    "                    response=number1-number2\n",
    "                else:\n",
    "                    response=\"Incorrect Operation\"\n",
    "                return render_template(\"index.html\", response=response)\n",
    "        except:\n",
    "            return \"Something Went Wrong\"\n",
    "    else:\n",
    "        return render_template(\"index.html\")\n",
    "\n",
    "if __name__=='__main__':\n",
    "    app.run(host='0.0.0.0',port=8000)"
   ]
  },
  {
   "cell_type": "code",
   "execution_count": 7,
   "id": "7afcf08c",
   "metadata": {},
   "outputs": [
    {
     "data": {
      "text/plain": [
       "'C:\\\\Users\\\\shubh\\\\Desktop\\\\delete\\\\flask'"
      ]
     },
     "execution_count": 7,
     "metadata": {},
     "output_type": "execute_result"
    }
   ],
   "source": [
    "pwd"
   ]
  },
  {
   "cell_type": "code",
   "execution_count": null,
   "id": "0e7c4f4c",
   "metadata": {},
   "outputs": [],
   "source": []
  }
 ],
 "metadata": {
  "kernelspec": {
   "display_name": "Python 3 (ipykernel)",
   "language": "python",
   "name": "python3"
  },
  "language_info": {
   "codemirror_mode": {
    "name": "ipython",
    "version": 3
   },
   "file_extension": ".py",
   "mimetype": "text/x-python",
   "name": "python",
   "nbconvert_exporter": "python",
   "pygments_lexer": "ipython3",
   "version": "3.11.5"
  }
 },
 "nbformat": 4,
 "nbformat_minor": 5
}
